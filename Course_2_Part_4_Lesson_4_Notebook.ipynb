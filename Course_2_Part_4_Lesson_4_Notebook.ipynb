{
  "nbformat": 4,
  "nbformat_minor": 0,
  "metadata": {
    "accelerator": "GPU",
    "colab": {
      "name": "Course 2 - Part 4 - Lesson 4 - Notebook.ipynb",
      "provenance": [],
      "collapsed_sections": [],
      "toc_visible": true,
      "include_colab_link": true
    },
    "kernelspec": {
      "display_name": "Python 3",
      "name": "python3"
    }
  },
  "cells": [
    {
      "cell_type": "markdown",
      "metadata": {
        "id": "view-in-github",
        "colab_type": "text"
      },
      "source": [
        "<a href=\"https://colab.research.google.com/github/chandella07/TF_practice/blob/master/Course_2_Part_4_Lesson_4_Notebook.ipynb\" target=\"_parent\"><img src=\"https://colab.research.google.com/assets/colab-badge.svg\" alt=\"Open In Colab\"/></a>"
      ]
    },
    {
      "cell_type": "markdown",
      "metadata": {
        "colab_type": "text",
        "id": "rX8mhOLljYeM"
      },
      "source": [
        "##### Copyright 2019 The TensorFlow Authors."
      ]
    },
    {
      "cell_type": "code",
      "metadata": {
        "cellView": "form",
        "colab_type": "code",
        "id": "BZSlp3DAjdYf",
        "colab": {}
      },
      "source": [
        "#@title Licensed under the Apache License, Version 2.0 (the \"License\");\n",
        "# you may not use this file except in compliance with the License.\n",
        "# You may obtain a copy of the License at\n",
        "#\n",
        "# https://www.apache.org/licenses/LICENSE-2.0\n",
        "#\n",
        "# Unless required by applicable law or agreed to in writing, software\n",
        "# distributed under the License is distributed on an \"AS IS\" BASIS,\n",
        "# WITHOUT WARRANTIES OR CONDITIONS OF ANY KIND, either express or implied.\n",
        "# See the License for the specific language governing permissions and\n",
        "# limitations under the License."
      ],
      "execution_count": 1,
      "outputs": []
    },
    {
      "cell_type": "code",
      "metadata": {
        "colab_type": "code",
        "id": "RXZT2UsyIVe_",
        "colab": {
          "base_uri": "https://localhost:8080/",
          "height": 391
        },
        "outputId": "66a21692-be84-430e-ce4f-f24193469015"
      },
      "source": [
        "!wget --no-check-certificate \\\n",
        "    https://storage.googleapis.com/laurencemoroney-blog.appspot.com/horse-or-human.zip \\\n",
        "    -O /tmp/horse-or-human.zip\n",
        "\n",
        "!wget --no-check-certificate \\\n",
        "    https://storage.googleapis.com/laurencemoroney-blog.appspot.com/validation-horse-or-human.zip \\\n",
        "    -O /tmp/validation-horse-or-human.zip\n",
        "  \n",
        "import os\n",
        "import zipfile\n",
        "\n",
        "local_zip = '/tmp/horse-or-human.zip'\n",
        "zip_ref = zipfile.ZipFile(local_zip, 'r')\n",
        "zip_ref.extractall('/tmp/horse-or-human')\n",
        "local_zip = '/tmp/validation-horse-or-human.zip'\n",
        "zip_ref = zipfile.ZipFile(local_zip, 'r')\n",
        "zip_ref.extractall('/tmp/validation-horse-or-human')\n",
        "zip_ref.close()\n",
        "# Directory with our training horse pictures\n",
        "train_horse_dir = os.path.join('/tmp/horse-or-human/horses')\n",
        "\n",
        "# Directory with our training human pictures\n",
        "train_human_dir = os.path.join('/tmp/horse-or-human/humans')\n",
        "\n",
        "# Directory with our training horse pictures\n",
        "validation_horse_dir = os.path.join('/tmp/validation-horse-or-human/horses')\n",
        "\n",
        "# Directory with our training human pictures\n",
        "validation_human_dir = os.path.join('/tmp/validation-horse-or-human/humans')"
      ],
      "execution_count": 2,
      "outputs": [
        {
          "output_type": "stream",
          "text": [
            "--2020-07-26 19:40:09--  https://storage.googleapis.com/laurencemoroney-blog.appspot.com/horse-or-human.zip\n",
            "Resolving storage.googleapis.com (storage.googleapis.com)... 74.125.68.128, 172.217.194.128, 172.253.118.128, ...\n",
            "Connecting to storage.googleapis.com (storage.googleapis.com)|74.125.68.128|:443... connected.\n",
            "HTTP request sent, awaiting response... 200 OK\n",
            "Length: 149574867 (143M) [application/zip]\n",
            "Saving to: ‘/tmp/horse-or-human.zip’\n",
            "\n",
            "/tmp/horse-or-human 100%[===================>] 142.65M  76.6MB/s    in 1.9s    \n",
            "\n",
            "2020-07-26 19:40:11 (76.6 MB/s) - ‘/tmp/horse-or-human.zip’ saved [149574867/149574867]\n",
            "\n",
            "--2020-07-26 19:40:17--  https://storage.googleapis.com/laurencemoroney-blog.appspot.com/validation-horse-or-human.zip\n",
            "Resolving storage.googleapis.com (storage.googleapis.com)... 74.125.24.128, 74.125.130.128, 172.217.194.128, ...\n",
            "Connecting to storage.googleapis.com (storage.googleapis.com)|74.125.24.128|:443... connected.\n",
            "HTTP request sent, awaiting response... 200 OK\n",
            "Length: 11480187 (11M) [application/zip]\n",
            "Saving to: ‘/tmp/validation-horse-or-human.zip’\n",
            "\n",
            "/tmp/validation-hor 100%[===================>]  10.95M  31.0MB/s    in 0.4s    \n",
            "\n",
            "2020-07-26 19:40:18 (31.0 MB/s) - ‘/tmp/validation-horse-or-human.zip’ saved [11480187/11480187]\n",
            "\n"
          ],
          "name": "stdout"
        }
      ]
    },
    {
      "cell_type": "markdown",
      "metadata": {
        "colab_type": "text",
        "id": "5oqBkNBJmtUv"
      },
      "source": [
        "## Building a Small Model from Scratch\n",
        "\n",
        "But before we continue, let's start defining the model:\n",
        "\n",
        "Step 1 will be to import tensorflow."
      ]
    },
    {
      "cell_type": "code",
      "metadata": {
        "colab_type": "code",
        "id": "qvfZg3LQbD-5",
        "colab": {}
      },
      "source": [
        "import tensorflow as tf"
      ],
      "execution_count": 3,
      "outputs": []
    },
    {
      "cell_type": "markdown",
      "metadata": {
        "colab_type": "text",
        "id": "BnhYCP4tdqjC"
      },
      "source": [
        "We then add convolutional layers as in the previous example, and flatten the final result to feed into the densely connected layers."
      ]
    },
    {
      "cell_type": "markdown",
      "metadata": {
        "colab_type": "text",
        "id": "gokG5HKpdtzm"
      },
      "source": [
        "Finally we add the densely connected layers. \n",
        "\n",
        "Note that because we are facing a two-class classification problem, i.e. a *binary classification problem*, we will end our network with a [*sigmoid* activation](https://wikipedia.org/wiki/Sigmoid_function), so that the output of our network will be a single scalar between 0 and 1, encoding the probability that the current image is class 1 (as opposed to class 0)."
      ]
    },
    {
      "cell_type": "code",
      "metadata": {
        "colab_type": "code",
        "id": "PixZ2s5QbYQ3",
        "colab": {}
      },
      "source": [
        "model = tf.keras.models.Sequential([\n",
        "    # Note the input shape is the desired size of the image 300x300 with 3 bytes color\n",
        "    # This is the first convolution\n",
        "    tf.keras.layers.Conv2D(16, (3,3), activation='relu', input_shape=(300, 300, 3)),\n",
        "    tf.keras.layers.MaxPooling2D(2, 2),\n",
        "    # The second convolution\n",
        "    tf.keras.layers.Conv2D(32, (3,3), activation='relu'),\n",
        "    tf.keras.layers.MaxPooling2D(2,2),\n",
        "    # The third convolution\n",
        "    tf.keras.layers.Conv2D(64, (3,3), activation='relu'),\n",
        "    tf.keras.layers.MaxPooling2D(2,2),\n",
        "    # The fourth convolution\n",
        "    tf.keras.layers.Conv2D(64, (3,3), activation='relu'),\n",
        "    tf.keras.layers.MaxPooling2D(2,2),\n",
        "    # The fifth convolution\n",
        "    tf.keras.layers.Conv2D(64, (3,3), activation='relu'),\n",
        "    tf.keras.layers.MaxPooling2D(2,2),\n",
        "    # Flatten the results to feed into a DNN\n",
        "    tf.keras.layers.Flatten(),\n",
        "    # 512 neuron hidden layer\n",
        "    tf.keras.layers.Dense(512, activation='relu'),\n",
        "    # Only 1 output neuron. It will contain a value from 0-1 where 0 for 1 class ('horses') and 1 for the other ('humans')\n",
        "    tf.keras.layers.Dense(1, activation='sigmoid')\n",
        "])"
      ],
      "execution_count": 4,
      "outputs": []
    },
    {
      "cell_type": "code",
      "metadata": {
        "colab_type": "code",
        "id": "8DHWhFP_uhq3",
        "colab": {}
      },
      "source": [
        "from tensorflow.keras.optimizers import RMSprop\n",
        "\n",
        "model.compile(loss='binary_crossentropy',\n",
        "              optimizer=RMSprop(lr=1e-4),\n",
        "              metrics=['accuracy'])"
      ],
      "execution_count": 5,
      "outputs": []
    },
    {
      "cell_type": "code",
      "metadata": {
        "colab_type": "code",
        "id": "ClebU9NJg99G",
        "colab": {
          "base_uri": "https://localhost:8080/",
          "height": 51
        },
        "outputId": "ddd11888-36db-4ea3-b57c-b19b62c971b0"
      },
      "source": [
        "from tensorflow.keras.preprocessing.image import ImageDataGenerator\n",
        "\n",
        "# All images will be rescaled by 1./255\n",
        "train_datagen = ImageDataGenerator(\n",
        "      rescale=1./255,\n",
        "      rotation_range=40,\n",
        "      width_shift_range=0.2,\n",
        "      height_shift_range=0.2,\n",
        "      shear_range=0.2,\n",
        "      zoom_range=0.2,\n",
        "      horizontal_flip=True,\n",
        "      fill_mode='nearest')\n",
        "\n",
        "validation_datagen = ImageDataGenerator(rescale=1/255)\n",
        "\n",
        "# Flow training images in batches of 128 using train_datagen generator\n",
        "train_generator = train_datagen.flow_from_directory(\n",
        "        '/tmp/horse-or-human/',  # This is the source directory for training images\n",
        "        target_size=(300, 300),  # All images will be resized to 150x150\n",
        "        batch_size=128,\n",
        "        # Since we use binary_crossentropy loss, we need binary labels\n",
        "        class_mode='binary')\n",
        "\n",
        "# Flow training images in batches of 128 using train_datagen generator\n",
        "validation_generator = validation_datagen.flow_from_directory(\n",
        "        '/tmp/validation-horse-or-human/',  # This is the source directory for training images\n",
        "        target_size=(300, 300),  # All images will be resized to 150x150\n",
        "        batch_size=32,\n",
        "        # Since we use binary_crossentropy loss, we need binary labels\n",
        "        class_mode='binary')"
      ],
      "execution_count": 6,
      "outputs": [
        {
          "output_type": "stream",
          "text": [
            "Found 1027 images belonging to 2 classes.\n",
            "Found 256 images belonging to 2 classes.\n"
          ],
          "name": "stdout"
        }
      ]
    },
    {
      "cell_type": "code",
      "metadata": {
        "colab_type": "code",
        "id": "Fb1_lgobv81m",
        "colab": {
          "base_uri": "https://localhost:8080/",
          "height": 1000
        },
        "outputId": "be1b45be-fa78-45d8-a17d-b8a847a1485e"
      },
      "source": [
        "history = model.fit(\n",
        "      train_generator,\n",
        "      steps_per_epoch=8,  \n",
        "      epochs=100,\n",
        "      verbose=1,\n",
        "      validation_data = validation_generator,\n",
        "      validation_steps=8)"
      ],
      "execution_count": 7,
      "outputs": [
        {
          "output_type": "stream",
          "text": [
            "Epoch 1/100\n",
            "8/8 [==============================] - 18s 2s/step - loss: 0.6906 - accuracy: 0.5328 - val_loss: 0.6662 - val_accuracy: 0.5195\n",
            "Epoch 2/100\n",
            "8/8 [==============================] - 20s 2s/step - loss: 0.6607 - accuracy: 0.6374 - val_loss: 0.6304 - val_accuracy: 0.7500\n",
            "Epoch 3/100\n",
            "8/8 [==============================] - 20s 2s/step - loss: 0.6258 - accuracy: 0.6919 - val_loss: 0.5908 - val_accuracy: 0.5312\n",
            "Epoch 4/100\n",
            "8/8 [==============================] - 20s 2s/step - loss: 0.6259 - accuracy: 0.6318 - val_loss: 0.5708 - val_accuracy: 0.7109\n",
            "Epoch 5/100\n",
            "8/8 [==============================] - 19s 2s/step - loss: 0.5871 - accuracy: 0.6908 - val_loss: 1.0804 - val_accuracy: 0.5000\n",
            "Epoch 6/100\n",
            "8/8 [==============================] - 19s 2s/step - loss: 0.6075 - accuracy: 0.6785 - val_loss: 0.7107 - val_accuracy: 0.5312\n",
            "Epoch 7/100\n",
            "8/8 [==============================] - 19s 2s/step - loss: 0.5798 - accuracy: 0.7008 - val_loss: 0.7213 - val_accuracy: 0.5391\n",
            "Epoch 8/100\n",
            "8/8 [==============================] - 21s 3s/step - loss: 0.5388 - accuracy: 0.7412 - val_loss: 0.7706 - val_accuracy: 0.5391\n",
            "Epoch 9/100\n",
            "8/8 [==============================] - 22s 3s/step - loss: 0.5453 - accuracy: 0.7319 - val_loss: 0.7944 - val_accuracy: 0.5391\n",
            "Epoch 10/100\n",
            "8/8 [==============================] - 20s 2s/step - loss: 0.5049 - accuracy: 0.7553 - val_loss: 0.7466 - val_accuracy: 0.5938\n",
            "Epoch 11/100\n",
            "8/8 [==============================] - 19s 2s/step - loss: 0.5049 - accuracy: 0.7720 - val_loss: 0.8318 - val_accuracy: 0.5703\n",
            "8/8 [==============================] - 19s 2s/step - loss: 0.5102 - accuracy: 0.7297 - val_loss: 0.7118 - val_accuracy: 0.6445\n",
            "Epoch 13/100\n",
            "8/8 [==============================] - 19s 2s/step - loss: 0.4813 - accuracy: 0.7742 - val_loss: 0.8475 - val_accuracy: 0.5938\n",
            "Epoch 14/100\n",
            "8/8 [==============================] - 22s 3s/step - loss: 0.5183 - accuracy: 0.7430 - val_loss: 0.7872 - val_accuracy: 0.6445\n",
            "Epoch 15/100\n",
            "8/8 [==============================] - 19s 2s/step - loss: 0.4735 - accuracy: 0.7909 - val_loss: 0.7112 - val_accuracy: 0.6680\n",
            "Epoch 16/100\n",
            "8/8 [==============================] - 19s 2s/step - loss: 0.4536 - accuracy: 0.7753 - val_loss: 0.9319 - val_accuracy: 0.6328\n",
            "Epoch 17/100\n",
            "8/8 [==============================] - 19s 2s/step - loss: 0.4899 - accuracy: 0.7642 - val_loss: 1.9645 - val_accuracy: 0.5000\n",
            "Epoch 18/100\n",
            "8/8 [==============================] - 19s 2s/step - loss: 0.4859 - accuracy: 0.7720 - val_loss: 0.9673 - val_accuracy: 0.6211\n",
            "Epoch 19/100\n",
            "8/8 [==============================] - 19s 2s/step - loss: 0.4601 - accuracy: 0.7898 - val_loss: 0.7142 - val_accuracy: 0.7070\n",
            "Epoch 20/100\n",
            "8/8 [==============================] - 19s 2s/step - loss: 0.4290 - accuracy: 0.7931 - val_loss: 0.8284 - val_accuracy: 0.6719\n",
            "Epoch 21/100\n",
            "8/8 [==============================] - 21s 3s/step - loss: 0.4456 - accuracy: 0.7822 - val_loss: 0.8136 - val_accuracy: 0.6719\n",
            "Epoch 22/100\n",
            "8/8 [==============================] - 19s 2s/step - loss: 0.4351 - accuracy: 0.7864 - val_loss: 1.2709 - val_accuracy: 0.5859\n",
            "Epoch 23/100\n",
            "8/8 [==============================] - 20s 2s/step - loss: 0.4115 - accuracy: 0.8031 - val_loss: 1.1766 - val_accuracy: 0.6172\n",
            "Epoch 24/100\n",
            "8/8 [==============================] - 22s 3s/step - loss: 0.4998 - accuracy: 0.7775 - val_loss: 1.1366 - val_accuracy: 0.6133\n",
            "Epoch 25/100\n",
            "8/8 [==============================] - 19s 2s/step - loss: 0.4579 - accuracy: 0.7742 - val_loss: 1.1346 - val_accuracy: 0.5820\n",
            "Epoch 26/100\n",
            "8/8 [==============================] - 19s 2s/step - loss: 0.3669 - accuracy: 0.8543 - val_loss: 0.8869 - val_accuracy: 0.6875\n",
            "Epoch 27/100\n",
            "8/8 [==============================] - 19s 2s/step - loss: 0.3845 - accuracy: 0.8265 - val_loss: 0.8406 - val_accuracy: 0.6953\n",
            "Epoch 28/100\n",
            "8/8 [==============================] - 19s 2s/step - loss: 0.3808 - accuracy: 0.8154 - val_loss: 1.2116 - val_accuracy: 0.6055\n",
            "Epoch 29/100\n",
            "8/8 [==============================] - 21s 3s/step - loss: 0.3862 - accuracy: 0.8281 - val_loss: 1.3524 - val_accuracy: 0.5938\n",
            "Epoch 30/100\n",
            "8/8 [==============================] - 22s 3s/step - loss: 0.4209 - accuracy: 0.8265 - val_loss: 1.0407 - val_accuracy: 0.6328\n",
            "Epoch 31/100\n",
            "8/8 [==============================] - 19s 2s/step - loss: 0.3515 - accuracy: 0.8443 - val_loss: 2.1194 - val_accuracy: 0.5352\n",
            "Epoch 32/100\n",
            "8/8 [==============================] - 19s 2s/step - loss: 0.3494 - accuracy: 0.8543 - val_loss: 1.0164 - val_accuracy: 0.7070\n",
            "Epoch 33/100\n",
            "8/8 [==============================] - 22s 3s/step - loss: 0.4416 - accuracy: 0.8042 - val_loss: 1.2864 - val_accuracy: 0.6172\n",
            "Epoch 34/100\n",
            "8/8 [==============================] - 19s 2s/step - loss: 0.3899 - accuracy: 0.8131 - val_loss: 1.4755 - val_accuracy: 0.6094\n",
            "Epoch 35/100\n",
            "8/8 [==============================] - 19s 2s/step - loss: 0.3191 - accuracy: 0.8676 - val_loss: 1.1050 - val_accuracy: 0.6680\n",
            "Epoch 36/100\n",
            "8/8 [==============================] - 19s 2s/step - loss: 0.4397 - accuracy: 0.8042 - val_loss: 1.1654 - val_accuracy: 0.5938\n",
            "Epoch 37/100\n",
            "8/8 [==============================] - 19s 2s/step - loss: 0.3284 - accuracy: 0.8676 - val_loss: 1.4262 - val_accuracy: 0.6016\n",
            "Epoch 38/100\n",
            "8/8 [==============================] - 19s 2s/step - loss: 0.3359 - accuracy: 0.8632 - val_loss: 1.0542 - val_accuracy: 0.6406\n",
            "Epoch 39/100\n",
            "8/8 [==============================] - 19s 2s/step - loss: 0.3279 - accuracy: 0.8654 - val_loss: 1.3998 - val_accuracy: 0.6094\n",
            "Epoch 40/100\n",
            "8/8 [==============================] - 19s 2s/step - loss: 0.3367 - accuracy: 0.8543 - val_loss: 1.6253 - val_accuracy: 0.5938\n",
            "Epoch 41/100\n",
            "8/8 [==============================] - 19s 2s/step - loss: 0.3585 - accuracy: 0.8521 - val_loss: 1.6402 - val_accuracy: 0.6094\n",
            "Epoch 42/100\n",
            "8/8 [==============================] - 22s 3s/step - loss: 0.3236 - accuracy: 0.8632 - val_loss: 1.3335 - val_accuracy: 0.6250\n",
            "Epoch 43/100\n",
            "8/8 [==============================] - 19s 2s/step - loss: 0.3349 - accuracy: 0.8621 - val_loss: 1.7612 - val_accuracy: 0.5938\n",
            "Epoch 44/100\n",
            "8/8 [==============================] - 19s 2s/step - loss: 0.2777 - accuracy: 0.8932 - val_loss: 2.4267 - val_accuracy: 0.5547\n",
            "Epoch 45/100\n",
            "8/8 [==============================] - 19s 2s/step - loss: 0.3156 - accuracy: 0.8854 - val_loss: 1.3445 - val_accuracy: 0.6758\n",
            "Epoch 46/100\n",
            "8/8 [==============================] - 19s 2s/step - loss: 0.2865 - accuracy: 0.8843 - val_loss: 3.0144 - val_accuracy: 0.5352\n",
            "Epoch 47/100\n",
            "8/8 [==============================] - 19s 2s/step - loss: 0.3249 - accuracy: 0.8587 - val_loss: 1.5163 - val_accuracy: 0.6445\n",
            "Epoch 48/100\n",
            "8/8 [==============================] - 19s 2s/step - loss: 0.3747 - accuracy: 0.8587 - val_loss: 1.5684 - val_accuracy: 0.6445\n",
            "Epoch 49/100\n",
            "8/8 [==============================] - 19s 2s/step - loss: 0.2593 - accuracy: 0.9055 - val_loss: 2.6654 - val_accuracy: 0.5820\n",
            "Epoch 50/100\n",
            "8/8 [==============================] - 22s 3s/step - loss: 0.2926 - accuracy: 0.8721 - val_loss: 2.5134 - val_accuracy: 0.5781\n",
            "Epoch 51/100\n",
            "8/8 [==============================] - 19s 2s/step - loss: 0.2829 - accuracy: 0.8877 - val_loss: 1.0239 - val_accuracy: 0.6797\n",
            "Epoch 52/100\n",
            "8/8 [==============================] - 19s 2s/step - loss: 0.2746 - accuracy: 0.8877 - val_loss: 1.5891 - val_accuracy: 0.6406\n",
            "Epoch 53/100\n",
            "8/8 [==============================] - 19s 2s/step - loss: 0.2742 - accuracy: 0.8843 - val_loss: 1.8837 - val_accuracy: 0.5898\n",
            "Epoch 54/100\n",
            "8/8 [==============================] - 19s 2s/step - loss: 0.3003 - accuracy: 0.8710 - val_loss: 1.2494 - val_accuracy: 0.6719\n",
            "Epoch 55/100\n",
            "8/8 [==============================] - 19s 2s/step - loss: 0.2702 - accuracy: 0.8888 - val_loss: 1.8551 - val_accuracy: 0.6094\n",
            "Epoch 56/100\n",
            "8/8 [==============================] - 19s 2s/step - loss: 0.2179 - accuracy: 0.9166 - val_loss: 1.3922 - val_accuracy: 0.6758\n",
            "Epoch 57/100\n",
            "8/8 [==============================] - 19s 2s/step - loss: 0.3289 - accuracy: 0.8710 - val_loss: 1.8244 - val_accuracy: 0.6367\n",
            "Epoch 58/100\n",
            "8/8 [==============================] - 19s 2s/step - loss: 0.2408 - accuracy: 0.9143 - val_loss: 1.8028 - val_accuracy: 0.6211\n",
            "Epoch 59/100\n",
            "8/8 [==============================] - 18s 2s/step - loss: 0.2367 - accuracy: 0.9143 - val_loss: 2.6418 - val_accuracy: 0.5195\n",
            "Epoch 60/100\n",
            "8/8 [==============================] - 19s 2s/step - loss: 0.2719 - accuracy: 0.9010 - val_loss: 2.4240 - val_accuracy: 0.5781\n",
            "Epoch 61/100\n",
            "8/8 [==============================] - 19s 2s/step - loss: 0.3141 - accuracy: 0.8643 - val_loss: 1.2462 - val_accuracy: 0.6406\n",
            "Epoch 62/100\n",
            "8/8 [==============================] - 22s 3s/step - loss: 0.2367 - accuracy: 0.9110 - val_loss: 1.7763 - val_accuracy: 0.6523\n",
            "Epoch 63/100\n",
            "8/8 [==============================] - 19s 2s/step - loss: 0.2305 - accuracy: 0.9077 - val_loss: 1.3452 - val_accuracy: 0.6914\n",
            "Epoch 64/100\n",
            "8/8 [==============================] - 21s 3s/step - loss: 0.2424 - accuracy: 0.8887 - val_loss: 1.8325 - val_accuracy: 0.6523\n",
            "Epoch 65/100\n",
            "8/8 [==============================] - 19s 2s/step - loss: 0.2501 - accuracy: 0.9043 - val_loss: 1.9233 - val_accuracy: 0.6328\n",
            "Epoch 66/100\n",
            "8/8 [==============================] - 19s 2s/step - loss: 0.1953 - accuracy: 0.9277 - val_loss: 2.0484 - val_accuracy: 0.6523\n",
            "Epoch 67/100\n",
            "8/8 [==============================] - 19s 2s/step - loss: 0.2325 - accuracy: 0.9077 - val_loss: 3.6650 - val_accuracy: 0.5234\n",
            "Epoch 68/100\n",
            "8/8 [==============================] - 19s 2s/step - loss: 0.2507 - accuracy: 0.8966 - val_loss: 2.2089 - val_accuracy: 0.6250\n",
            "Epoch 69/100\n",
            "8/8 [==============================] - 22s 3s/step - loss: 0.1849 - accuracy: 0.9355 - val_loss: 1.4414 - val_accuracy: 0.6875\n",
            "Epoch 70/100\n",
            "8/8 [==============================] - 19s 2s/step - loss: 0.2747 - accuracy: 0.8854 - val_loss: 1.9853 - val_accuracy: 0.6562\n",
            "Epoch 71/100\n",
            "8/8 [==============================] - 21s 3s/step - loss: 0.2057 - accuracy: 0.9258 - val_loss: 2.5047 - val_accuracy: 0.6133\n",
            "Epoch 72/100\n",
            "8/8 [==============================] - 19s 2s/step - loss: 0.2465 - accuracy: 0.9066 - val_loss: 3.1752 - val_accuracy: 0.5508\n",
            "Epoch 73/100\n",
            "8/8 [==============================] - 18s 2s/step - loss: 0.2405 - accuracy: 0.8910 - val_loss: 2.2804 - val_accuracy: 0.6523\n",
            "Epoch 74/100\n",
            "8/8 [==============================] - 21s 3s/step - loss: 0.1947 - accuracy: 0.9268 - val_loss: 3.6108 - val_accuracy: 0.5469\n",
            "Epoch 75/100\n",
            "8/8 [==============================] - 21s 3s/step - loss: 0.2180 - accuracy: 0.9121 - val_loss: 1.5433 - val_accuracy: 0.6758\n",
            "Epoch 76/100\n",
            "8/8 [==============================] - 19s 2s/step - loss: 0.2858 - accuracy: 0.8943 - val_loss: 2.6784 - val_accuracy: 0.6055\n",
            "Epoch 77/100\n",
            "8/8 [==============================] - 19s 2s/step - loss: 0.1829 - accuracy: 0.9277 - val_loss: 1.6158 - val_accuracy: 0.6797\n",
            "Epoch 78/100\n",
            "8/8 [==============================] - 20s 2s/step - loss: 0.2801 - accuracy: 0.8865 - val_loss: 2.5566 - val_accuracy: 0.6055\n",
            "Epoch 79/100\n",
            "8/8 [==============================] - 20s 3s/step - loss: 0.1920 - accuracy: 0.9255 - val_loss: 2.4122 - val_accuracy: 0.6250\n",
            "Epoch 80/100\n",
            "8/8 [==============================] - 20s 2s/step - loss: 0.1506 - accuracy: 0.9388 - val_loss: 2.8933 - val_accuracy: 0.6055\n",
            "Epoch 81/100\n",
            "8/8 [==============================] - 19s 2s/step - loss: 0.1759 - accuracy: 0.9388 - val_loss: 1.5035 - val_accuracy: 0.6953\n",
            "Epoch 82/100\n",
            "8/8 [==============================] - 19s 2s/step - loss: 0.1734 - accuracy: 0.9210 - val_loss: 3.0764 - val_accuracy: 0.5938\n",
            "Epoch 83/100\n",
            "8/8 [==============================] - 19s 2s/step - loss: 0.2300 - accuracy: 0.9155 - val_loss: 2.0772 - val_accuracy: 0.6602\n",
            "Epoch 84/100\n",
            "8/8 [==============================] - 19s 2s/step - loss: 0.1968 - accuracy: 0.9288 - val_loss: 1.8684 - val_accuracy: 0.6641\n",
            "Epoch 85/100\n",
            "8/8 [==============================] - 22s 3s/step - loss: 0.1434 - accuracy: 0.9482 - val_loss: 3.2191 - val_accuracy: 0.5820\n",
            "Epoch 86/100\n",
            "8/8 [==============================] - 19s 2s/step - loss: 0.2050 - accuracy: 0.9099 - val_loss: 2.3845 - val_accuracy: 0.6523\n",
            "Epoch 87/100\n",
            "8/8 [==============================] - 19s 2s/step - loss: 0.2246 - accuracy: 0.9077 - val_loss: 1.4933 - val_accuracy: 0.6836\n",
            "Epoch 88/100\n",
            "8/8 [==============================] - 19s 2s/step - loss: 0.1827 - accuracy: 0.9299 - val_loss: 1.2018 - val_accuracy: 0.7148\n",
            "Epoch 89/100\n",
            "8/8 [==============================] - 19s 2s/step - loss: 0.2149 - accuracy: 0.9121 - val_loss: 2.4931 - val_accuracy: 0.6406\n",
            "Epoch 90/100\n",
            "8/8 [==============================] - 19s 2s/step - loss: 0.1627 - accuracy: 0.9355 - val_loss: 0.7694 - val_accuracy: 0.8164\n",
            "Epoch 91/100\n",
            "8/8 [==============================] - 19s 2s/step - loss: 0.1907 - accuracy: 0.9199 - val_loss: 2.7665 - val_accuracy: 0.6484\n",
            "Epoch 92/100\n",
            "8/8 [==============================] - 20s 2s/step - loss: 0.1492 - accuracy: 0.9388 - val_loss: 2.8268 - val_accuracy: 0.6445\n",
            "Epoch 93/100\n",
            "8/8 [==============================] - 20s 3s/step - loss: 0.2100 - accuracy: 0.9110 - val_loss: 2.1552 - val_accuracy: 0.6641\n",
            "Epoch 94/100\n",
            "8/8 [==============================] - 20s 2s/step - loss: 0.2147 - accuracy: 0.9132 - val_loss: 4.4321 - val_accuracy: 0.5469\n",
            "Epoch 95/100\n",
            "8/8 [==============================] - 20s 2s/step - loss: 0.1875 - accuracy: 0.9232 - val_loss: 2.1496 - val_accuracy: 0.6719\n",
            "Epoch 96/100\n",
            "8/8 [==============================] - 20s 3s/step - loss: 0.1531 - accuracy: 0.9366 - val_loss: 1.7172 - val_accuracy: 0.6836\n",
            "Epoch 97/100\n",
            "8/8 [==============================] - 20s 3s/step - loss: 0.2611 - accuracy: 0.9021 - val_loss: 2.2550 - val_accuracy: 0.6562\n",
            "Epoch 98/100\n",
            "8/8 [==============================] - 20s 3s/step - loss: 0.1466 - accuracy: 0.9477 - val_loss: 2.3947 - val_accuracy: 0.6602\n",
            "Epoch 99/100\n",
            "8/8 [==============================] - 20s 2s/step - loss: 0.1316 - accuracy: 0.9544 - val_loss: 2.4039 - val_accuracy: 0.6641\n",
            "Epoch 100/100\n",
            "8/8 [==============================] - 20s 3s/step - loss: 0.1772 - accuracy: 0.9288 - val_loss: 2.7301 - val_accuracy: 0.6406\n"
          ],
          "name": "stdout"
        }
      ]
    },
    {
      "cell_type": "code",
      "metadata": {
        "colab_type": "code",
        "id": "7zNPRWOVJdOH",
        "colab": {
          "base_uri": "https://localhost:8080/",
          "height": 545
        },
        "outputId": "70f57366-3db5-4a8d-b1dd-0860cde5cad5"
      },
      "source": [
        "import matplotlib.pyplot as plt\n",
        "acc = history.history['accuracy']\n",
        "val_acc = history.history['val_accuracy']\n",
        "loss = history.history['loss']\n",
        "val_loss = history.history['val_loss']\n",
        "\n",
        "epochs = range(len(acc))\n",
        "\n",
        "plt.plot(epochs, acc, 'r', label='Training accuracy')\n",
        "plt.plot(epochs, val_acc, 'b', label='Validation accuracy')\n",
        "plt.title('Training and validation accuracy')\n",
        "\n",
        "plt.figure()\n",
        "\n",
        "plt.plot(epochs, loss, 'r', label='Training Loss')\n",
        "plt.plot(epochs, val_loss, 'b', label='Validation Loss')\n",
        "plt.title('Training and validation loss')\n",
        "plt.legend()\n",
        "\n",
        "plt.show()"
      ],
      "execution_count": 8,
      "outputs": [
        {
          "output_type": "display_data",
          "data": {
            "image/png": "[encoded data removed]",
            "text/plain": [
              "<Figure size 432x288 with 1 Axes>"
            ]
          },
          "metadata": {
            "tags": [],
            "needs_background": "light"
          }
        },
        {
          "output_type": "display_data",
          "data": {
            "image/png": "[encoded data removed]",
            "text/plain": [
              "<Figure size 432x288 with 1 Axes>"
            ]
          },
          "metadata": {
            "tags": [],
            "needs_background": "light"
          }
        }
      ]
    }
  ]
}